{
 "cells": [
  {
   "cell_type": "code",
   "execution_count": 1,
   "metadata": {},
   "outputs": [],
   "source": [
    "# default_exp optimization.quantum_annealing"
   ]
  },
  {
   "cell_type": "code",
   "execution_count": 2,
   "metadata": {},
   "outputs": [],
   "source": [
    "#hide\n",
    "%reload_ext autoreload\n",
    "%autoreload 2\n",
    "%matplotlib inline"
   ]
  },
  {
   "cell_type": "markdown",
   "metadata": {},
   "source": [
    "# Quantum Annealing\n",
    "\n",
    "> Quantum Annealing Optimization API"
   ]
  },
  {
   "cell_type": "code",
   "execution_count": 3,
   "metadata": {},
   "outputs": [],
   "source": [
    "#hide\n",
    "from nbdev.showdoc import *"
   ]
  },
  {
   "cell_type": "code",
   "execution_count": 4,
   "metadata": {},
   "outputs": [],
   "source": [
    "#export\n",
    "\n",
    "import networkx as nx\n",
    "import warnings\n",
    "\n",
    "# dwave imports\n",
    "import dwave_networkx as dnx\n",
    "from dwave.system import EmbeddingComposite, DWaveSampler\n",
    "from braket.ocean_plugin import BraketSampler, BraketDWaveSampler\n",
    "from dimod import BinaryQuadraticModel\n",
    "\n",
    "\n",
    "# local imports\n",
    "from quixotic.optimization.base import QuantumOptimizer, DEFAULT_LOCAL_SIMULATOR\n",
    "\n",
    "\n",
    "SUPPORTED_TASKS = {'maximum_clique': dnx.maximum_clique,\n",
    "                  'minimum_vertex_cover': dnx.min_vertex_cover,\n",
    "                   'minimum_weighted_vertex_cover' :dnx.min_weighted_vertex_cover,\n",
    "                   'maximum_independent_set': dnx.maximum_independent_set,\n",
    "                   'maximum_weighted_independent_set' : dnx.maximum_weighted_independent_set,\n",
    "                   'maximum_cut' : dnx.maximum_cut,\n",
    "                   'weighted_maximum_cut' : dnx.weighted_maximum_cut,\n",
    "                   'structural_imbalance' : dnx.structural_imbalance,\n",
    "                   'traveling_salesperson' : dnx.traveling_salesperson\n",
    "                  }\n",
    "\n",
    "BE_AWS = 'aws'\n",
    "BE_DWAVE = 'dwave'\n",
    "BE_LOCAL = 'local'\n",
    "BACKENDS = [BE_AWS, BE_DWAVE, BE_LOCAL]\n",
    "\n",
    "class QuantumAnnealer:\n",
    "\n",
    "    \"\"\"quantum-based combinatorial optimization with Amazon Braket\n",
    "    \n",
    "    \n",
    "    Usage:\n",
    "\n",
    "    ```python\n",
    "    >>> qo = QuantumAnnealer(g, \n",
    "                            task='maximum_clique', \n",
    "                            device_arn='device_arn', # optional\n",
    "                            s3_folder='s3_folder')   # optional\n",
    "        qo.execute()\n",
    "        results = qo.results()\n",
    "    ```\n",
    "    \n",
    "    **Parameters:**\n",
    "    \n",
    "    * **graph** : a networkx Graph object\n",
    "    * **task** : task as `str`.  Invoke `supported_tasks` static method to see options.\n",
    "    * **bqm** : A `dimod.BinaryQuadraticModel`. If bqm supplied, then graph and task parameters are not needed.\n",
    "    * **backend** : One of `{'local', 'aws', 'dwave'}` where:\n",
    "                     - `local`: use a local solver (simulated annealing on your laptop)\n",
    "                     - `aws`: use Amazon Braket (`device_arn` and `3_folder` args required)\n",
    "                     - `dwave`: use D-Wave Leap System default solver as specified in `<home_directory/.config/dwave/dwave.conf\n",
    "\n",
    "    * **device_arn** : Device ARN. Only required if not running locally.\n",
    "    * **s3_folder** : S3 folder. Only required if not running locally.\n",
    "    \"\"\"\n",
    "    def __init__(self, graph=None, task=None, bqm=None, backend=BE_LOCAL,\n",
    "                 device_arn=None, s3_folder=None,\n",
    "                 ):\n",
    "        \"\"\"\n",
    "        constructor\n",
    "        \"\"\"\n",
    "        # error checks\n",
    "        if (graph is None or task is None) and bqm is None:\n",
    "            raise ValueError('Either graph and task params must be supplied or bqm must be supplied.')\n",
    "        if (graph is not None or task is not None) and bqm is not None:\n",
    "            raise ValueError('bqm parameter is mutually exclusive with graph and task params.')\n",
    "        if bqm is not None and not isinstance(bqm, BinaryQuadraticModel):\n",
    "            raise ValueError('bqm must be an instance of dimod.BinaryQuadraticModel')\n",
    "            \n",
    "        if bqm is None and task not in SUPPORTED_TASKS: \n",
    "            raise ValueError(f'task {task} is not supported. ' +\\\n",
    "                             f'Supported tasks: {list(SUPPORTED_TASKS.keys())}')\n",
    "        if bqm is None and not isinstance(graph, nx.Graph): \n",
    "            raise ValueError('g must be instance of networkx.Graph')\n",
    "        if (device_arn is not None and s3_folder is None) or\\\n",
    "           (device_arn is None and s3_folder is not None):\n",
    "            raise ValueError('If one of device_arn or s3_folder is supplied, then both must be supplied.')\n",
    "        if backend != BE_AWS and device_arn is not None:\n",
    "            warnings.warn('Switching backend to \"aws\" because device_arn and s3_folder were supplied.')\n",
    "            backend = 'aws'\n",
    "            \n",
    "                        \n",
    "        # input vars\n",
    "        self.g = graph\n",
    "        self.task = task\n",
    "        self.bqm = bqm\n",
    "        self.backend = backend\n",
    "        self.device_arn = device_arn\n",
    "        self.s3_folder = s3_folder\n",
    "\n",
    "\n",
    "        # computed vars\n",
    "        self._last_result = None\n",
    "        self._exec_called = False\n",
    "\n",
    "    @staticmethod\n",
    "    def supported_tasks():\n",
    "        \"\"\"\n",
    "        Prints supported tasks (valid values for the `task` parameter).\n",
    "        \"\"\"\n",
    "        for task in SUPPORTED_TASKS:\n",
    "            print(task)\n",
    "\n",
    "    def is_local(self):\n",
    "        return self.backend == BE_LOCAL\n",
    "    \n",
    "    def execute(self, verbose=1, **kwargs):\n",
    "        \"\"\"\n",
    "        Approximate a solution to given task.\n",
    "        Simulated Annealing is used when `QuantumAnnealer.local=True`.\n",
    "        Quantum Annealing is used when `QuantumAnnealer.local=False`.\n",
    "        \"\"\"\n",
    "        \n",
    "        # setup sampler\n",
    "        if self.backend == BE_LOCAL:\n",
    "            if self.g is not None and self.g.number_of_nodes() < 18:\n",
    "                from dimod.reference.samplers import ExactSolver\n",
    "                sampler = ExactSolver()\n",
    "            else:\n",
    "                import neal\n",
    "                sampler = neal.SimulatedAnnealingSampler()\n",
    "            if verbose: print('Executing locally.')\n",
    "\n",
    "        elif self.backend == BE_AWS:\n",
    "            braket_sampler = BraketSampler(self.s3_folder, self.device_arn)\n",
    "            sampler = EmbeddingComposite(braket_sampler)\n",
    "            if verbose: print('Executing on Amazon Braket with results stored in %s/%s.' % (self.s3_folder))\n",
    "        elif self.backend == BE_DWAVE:\n",
    "            sampler = EmbeddingComposite(DWaveSampler())\n",
    "            if verbose: print('Executing on D-Wave LEAP.')\n",
    "        else:\n",
    "            raise ValueError(f'Unknown backend value: {self.backend}')\n",
    "\n",
    "            \n",
    "        # generate approximation\n",
    "        kwargs = {}\n",
    "        if self.task is not None and 'weighted' in self.task: kwargs['weight'] = 'weight'\n",
    "            \n",
    "        if self.bqm is None:\n",
    "            apx_fn = SUPPORTED_TASKS[self.task]\n",
    "            if self.is_local():\n",
    "                result = apx_fn(self.g, sampler, **kwargs)\n",
    "            else:\n",
    "                if self.backend == BE_AWS: kwargs['resultFormat'] = 'HISTOGRAM'\n",
    "                result = apx_fn(self.g, sampler, **kwargs)      \n",
    "        else:\n",
    "            # use the sampler to find low energy states\n",
    "            response = sampler.sample(self.bqm, **kwargs)\n",
    "\n",
    "            # we want the lowest energy sample\n",
    "            sample = next(iter(response))\n",
    "\n",
    "            # nodes that are spin up or true are exactly the ones in S.\n",
    "            result = [node for node in sample if sample[node] > 0]\n",
    "            \n",
    "\n",
    "\n",
    "        self._last_result = result\n",
    "        self._exec_called = True\n",
    "        return self\n",
    "\n",
    "    \n",
    "    def results(self, **kwargs):\n",
    "        \"\"\"\n",
    "        Return approximated solution\n",
    "        \"\"\"\n",
    "        if not self._exec_called: raise Exception('The execute method must be called first.')\n",
    "        if 'return_probs' in kwargs and kwargs['return_probs']:\n",
    "            warnings.warn('return_probs not currently supported in QuantumAnnealer, '+\\\n",
    "                          'so returning None for second return value.')\n",
    "            return self._last_result, None\n",
    "        else:\n",
    "            return self._last_result\n",
    "    \n",
    "\n",
    "    def plot_samples(self, probs):\n",
    "        \"\"\"\n",
    "        Plot sample for toy problems for testing purposes.\n",
    "        \"\"\"\n",
    "        raise NotImplemented('QuantumAnnealer does not currently support plot_samples.')\n"
   ]
  },
  {
   "cell_type": "code",
   "execution_count": 5,
   "metadata": {},
   "outputs": [
    {
     "data": {
      "text/markdown": [
       "<h4 id=\"QuantumAnnealer.execute\" class=\"doc_header\"><code>QuantumAnnealer.execute</code><a href=\"__main__.py#L113\" class=\"source_link\" style=\"float:right\">[source]</a></h4>\n",
       "\n",
       "> <code>QuantumAnnealer.execute</code>(**`verbose`**=*`1`*, **\\*\\*`kwargs`**)\n",
       "\n",
       "Approximate a solution to given task.\n",
       "Simulated Annealing is used when [`QuantumAnnealer.local=True`](/quixotic/optimization.quantum_annealing.html#QuantumAnnealer.local=True).\n",
       "Quantum Annealing is used when [`QuantumAnnealer.local=False`](/quixotic/optimization.quantum_annealing.html#QuantumAnnealer.local=False)."
      ],
      "text/plain": [
       "<IPython.core.display.Markdown object>"
      ]
     },
     "metadata": {},
     "output_type": "display_data"
    }
   ],
   "source": [
    "show_doc(QuantumAnnealer.execute)"
   ]
  },
  {
   "cell_type": "code",
   "execution_count": 6,
   "metadata": {},
   "outputs": [
    {
     "data": {
      "text/markdown": [
       "<h4 id=\"QuantumAnnealer.results\" class=\"doc_header\"><code>QuantumAnnealer.results</code><a href=\"__main__.py#L169\" class=\"source_link\" style=\"float:right\">[source]</a></h4>\n",
       "\n",
       "> <code>QuantumAnnealer.results</code>(**\\*\\*`kwargs`**)\n",
       "\n",
       "Return approximated solution"
      ],
      "text/plain": [
       "<IPython.core.display.Markdown object>"
      ]
     },
     "metadata": {},
     "output_type": "display_data"
    }
   ],
   "source": [
    "show_doc(QuantumAnnealer.results)"
   ]
  },
  {
   "cell_type": "code",
   "execution_count": 7,
   "metadata": {},
   "outputs": [
    {
     "data": {
      "text/markdown": [
       "<h4 id=\"QuantumAnnealer.supported_tasks\" class=\"doc_header\"><code>QuantumAnnealer.supported_tasks</code><a href=\"__main__.py#L102\" class=\"source_link\" style=\"float:right\">[source]</a></h4>\n",
       "\n",
       "> <code>QuantumAnnealer.supported_tasks</code>()\n",
       "\n",
       "Prints supported tasks (valid values for the `task` parameter)."
      ],
      "text/plain": [
       "<IPython.core.display.Markdown object>"
      ]
     },
     "metadata": {},
     "output_type": "display_data"
    }
   ],
   "source": [
    "show_doc(QuantumAnnealer.supported_tasks)"
   ]
  },
  {
   "cell_type": "markdown",
   "metadata": {},
   "source": [
    "### Example: Minimum Vertex Cover with Quantum Annealing\n",
    "\n",
    "The task is to find the nodes comprising the minimum vertex cover in a graph.  Let's construct a small star graph as input."
   ]
  },
  {
   "cell_type": "code",
   "execution_count": 9,
   "metadata": {},
   "outputs": [
    {
     "data": {
      "image/png": "[encoded data removed]",
      "text/plain": [
       "<Figure size 432x288 with 1 Axes>"
      ]
     },
     "metadata": {},
     "output_type": "display_data"
    }
   ],
   "source": [
    "import networkx as nx\n",
    "\n",
    "n = 6\n",
    "g = nx.star_graph(n-1) \n",
    "seed = 1967\n",
    "positions = nx.spring_layout(g, seed=seed)\n",
    "nx.draw(g, with_labels=True, pos=positions)"
   ]
  },
  {
   "cell_type": "code",
   "execution_count": 10,
   "metadata": {},
   "outputs": [],
   "source": [
    "qo = QuantumAnnealer(g, task='minimum_vertex_cover')"
   ]
  },
  {
   "cell_type": "code",
   "execution_count": 11,
   "metadata": {},
   "outputs": [
    {
     "name": "stdout",
     "output_type": "stream",
     "text": [
      "Executing locally.\n"
     ]
    },
    {
     "data": {
      "text/plain": [
       "<__main__.QuantumAnnealer at 0x7f499f0f6c70>"
      ]
     },
     "execution_count": 11,
     "metadata": {},
     "output_type": "execute_result"
    }
   ],
   "source": [
    "qo.execute()"
   ]
  },
  {
   "cell_type": "code",
   "execution_count": 12,
   "metadata": {},
   "outputs": [],
   "source": [
    "nodes = qo.results()"
   ]
  },
  {
   "cell_type": "code",
   "execution_count": 13,
   "metadata": {},
   "outputs": [
    {
     "data": {
      "text/plain": [
       "[0]"
      ]
     },
     "execution_count": 13,
     "metadata": {},
     "output_type": "execute_result"
    }
   ],
   "source": [
    "nodes"
   ]
  },
  {
   "cell_type": "code",
   "execution_count": 14,
   "metadata": {},
   "outputs": [
    {
     "data": {
      "image/png": "[encoded data removed]",
      "text/plain": [
       "<Figure size 432x288 with 1 Axes>"
      ]
     },
     "metadata": {},
     "output_type": "display_data"
    }
   ],
   "source": [
    "# plot solution as graph\n",
    "sub = g.subgraph(nodes)\n",
    "nx.draw(g, pos=positions, with_labels=True)\n",
    "nx.draw(sub, pos=positions, node_color=\"r\", edge_color=\"r\")"
   ]
  },
  {
   "cell_type": "code",
   "execution_count": 15,
   "metadata": {},
   "outputs": [],
   "source": [
    "assert set(nodes) == set([0])"
   ]
  },
  {
   "cell_type": "markdown",
   "metadata": {},
   "source": [
    "### Using a `BinaryQuadraticModel`\n",
    "\n",
    "For more flexibility, you can formulate your problem as a `dimod.BinaryQuadraticModel` instance and supply that to `QuantumAnnealer` instead.  Here, we will solvethe same minimum vertex cover problem by formulating it as a binary quadratic model.  See [this reference](https://leeds-faculty.colorado.edu/glover/511%20-%20QUBO%20Tutorial%20-%20updated%20version%20-%20May%204,%202019.pdf) for more details on how to formulate problems as binary quadratic models."
   ]
  },
  {
   "cell_type": "code",
   "execution_count": 16,
   "metadata": {},
   "outputs": [
    {
     "name": "stdout",
     "output_type": "stream",
     "text": [
      "Executing locally.\n"
     ]
    },
    {
     "data": {
      "image/png": "[encoded data removed]",
      "text/plain": [
       "<Figure size 432x288 with 1 Axes>"
      ]
     },
     "metadata": {},
     "output_type": "display_data"
    }
   ],
   "source": [
    "# formulate BQM optimization problem\n",
    "cost = dict(g.nodes(data=None, default=1))\n",
    "scale = max(cost.values())\n",
    "Q = {(node, node): min(-cost[node] / scale, 0.0) for node in g}\n",
    "Q.update({edge: 2.0 for edge in g.edges}) # use 2.0 as \"tuning\" LaGrange value for this problem\n",
    "import dimod\n",
    "bqm = dimod.BinaryQuadraticModel.from_qubo(Q)\n",
    "\n",
    "# solve BQM\n",
    "independent_set = QuantumAnnealer(bqm=bqm).execute().results()\n",
    "\n",
    "# nodes NOT in the independent set comprise the minimum vertex cover\n",
    "solution_nodes = [v for v in g if v not in independent_set]\n",
    "assert set(solution_nodes) == set([0])\n",
    "\n",
    "# plot solution as graph\n",
    "sub = g.subgraph(solution_nodes)\n",
    "nx.draw(g, pos=positions, with_labels=True)\n",
    "nx.draw(sub, pos=positions, node_color=\"r\", edge_color=\"r\")"
   ]
  },
  {
   "cell_type": "code",
   "execution_count": 17,
   "metadata": {},
   "outputs": [
    {
     "name": "stdout",
     "output_type": "stream",
     "text": [
      "Converted 00_core.ipynb.\n",
      "Converted 01_optimization.base.ipynb.\n",
      "Converted 02_optimization.quantum_annealing.ipynb.\n",
      "Converted 03_optimization.qaoa.ipynb.\n",
      "Converted 98_utils.ipynb.\n",
      "Converted 99a_examples_quantum_annealing.ipynb.\n",
      "Converted 99b_examples_qaoa.ipynb.\n",
      "Converted index.ipynb.\n"
     ]
    }
   ],
   "source": [
    "#hide\n",
    "from nbdev.export import notebook2script; notebook2script()"
   ]
  },
  {
   "cell_type": "code",
   "execution_count": null,
   "metadata": {},
   "outputs": [],
   "source": []
  },
  {
   "cell_type": "code",
   "execution_count": null,
   "metadata": {},
   "outputs": [],
   "source": []
  }
 ],
 "metadata": {
  "kernelspec": {
   "display_name": "Python 3 (ipykernel)",
   "language": "python",
   "name": "python3"
  },
  "language_info": {
   "codemirror_mode": {
    "name": "ipython",
    "version": 3
   },
   "file_extension": ".py",
   "mimetype": "text/x-python",
   "name": "python",
   "nbconvert_exporter": "python",
   "pygments_lexer": "ipython3",
   "version": "3.8.10"
  }
 },
 "nbformat": 4,
 "nbformat_minor": 2
}
